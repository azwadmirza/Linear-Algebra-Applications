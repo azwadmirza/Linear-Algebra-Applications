{
 "cells": [
  {
   "cell_type": "markdown",
   "metadata": {},
   "source": [
    "### Importing required packages"
   ]
  },
  {
   "cell_type": "code",
   "execution_count": 2,
   "metadata": {
    "collapsed": true
   },
   "outputs": [],
   "source": [
    "from __future__ import division\n",
    "import igraph as ig\n",
    "import numpy as np"
   ]
  },
  {
   "cell_type": "markdown",
   "metadata": {},
   "source": [
    "### Dataset **Amaerican College Football**"
   ]
  },
  {
   "cell_type": "markdown",
   "metadata": {},
   "source": [
    "http://www-personal.umich.edu/%7Emejn/netdata/football.zip  \n",
    "\n",
    "I have chosen this dataset because it's in GML format and it's size is only in Kbs. It can easily be converted to **115x115** Adjency Matrix. Moreover, it is directed with no dangling nodes. So, it can also be converted to *Column Stochastic* matrix, as required."
   ]
  },
  {
   "cell_type": "markdown",
   "metadata": {},
   "source": [
    "I have used package `igraph` to read .gml file. Using get_adjency function,\n",
    "it's easy to convert nodal data into *adjency matrix* format. Below is the code for same."
   ]
  },
  {
   "cell_type": "code",
   "execution_count": 6,
   "metadata": {
    "collapsed": true
   },
   "outputs": [],
   "source": [
    "football = ig.read(\"football.gml\")\n",
    "array_1 = football.get_adjacency()  # Converting to adjency matrix\n",
    "array_2 = np.array(array_1.data, dtype = float) # in numpy array format"
   ]
  },
  {
   "cell_type": "markdown",
   "metadata": {},
   "source": [
    "Now, I need a function to find our sum of all columns. I will use this function to **normalize** my adjency matrix, \n",
    "i.e. to make it **column stochastic** matrix."
   ]
  },
  {
   "cell_type": "code",
   "execution_count": 13,
   "metadata": {
    "collapsed": true
   },
   "outputs": [],
   "source": [
    "def colsums(matrix_x):\n",
    "    matrix_y = []\n",
    "    for j in range(len(matrix_x)):\n",
    "        sumo = 0\n",
    "        for i in range(len(matrix_x)):\n",
    "            sumo = sumo + matrix_x[i,j]\n",
    "        matrix_y.append(sumo)\n",
    "    return matrix_y"
   ]
  },
  {
   "cell_type": "markdown",
   "metadata": {},
   "source": [
    "Below, I have save column sums in `colsums_1` variable"
   ]
  },
  {
   "cell_type": "code",
   "execution_count": 8,
   "metadata": {
    "collapsed": true
   },
   "outputs": [],
   "source": [
    "colsums_1 = colsums(array_2)"
   ]
  },
  {
   "cell_type": "markdown",
   "metadata": {},
   "source": [
    "#### Matrix A Normalization"
   ]
  },
  {
   "cell_type": "code",
   "execution_count": 9,
   "metadata": {
    "collapsed": true
   },
   "outputs": [],
   "source": [
    "matrix_A = array_2.copy()\n",
    "for k in range(len(array_2)):\n",
    "    for l in range(len(array_2)):\n",
    "        matrix_A[l,k] = matrix_A[l,k]/colsums_1[k]"
   ]
  },
  {
   "cell_type": "markdown",
   "metadata": {},
   "source": [
    "#### Random jump matrix B"
   ]
  },
  {
   "cell_type": "code",
   "execution_count": 10,
   "metadata": {
    "collapsed": true
   },
   "outputs": [],
   "source": [
    "list_B = [1/115 for i in range(115*115)]\n",
    "matrix_B = np.reshape(list_B, (115, 115))"
   ]
  },
  {
   "cell_type": "markdown",
   "metadata": {},
   "source": [
    "#### Google Matrix M with p = 0.15"
   ]
  },
  {
   "cell_type": "code",
   "execution_count": 11,
   "metadata": {
    "collapsed": true
   },
   "outputs": [],
   "source": [
    "matrix_M = 0.85*matrix_A + 0.15*matrix_B"
   ]
  },
  {
   "cell_type": "markdown",
   "metadata": {},
   "source": [
    "#### Starting vector with equal probabilities"
   ]
  },
  {
   "cell_type": "code",
   "execution_count": 12,
   "metadata": {
    "collapsed": true
   },
   "outputs": [],
   "source": [
    "v = np.array([1/115 for i in range(115)]).reshape(115,1)"
   ]
  },
  {
   "cell_type": "markdown",
   "metadata": {},
   "source": [
    "#### Iteratively multiplying Google matrix to find eigen vector corresponding to $\\lambda = 1$ \n",
    "Using *$\\epsilon = 0.00001$*, my google matrix converged in **20** iterations. Below is the code for same."
   ]
  },
  {
   "cell_type": "code",
   "execution_count": null,
   "metadata": {
    "collapsed": true
   },
   "outputs": [],
   "source": [
    "i = 1\n",
    "score_vec = v.copy()\n",
    "epsilon = 100\n",
    "\n",
    "while epsilon > 0.000001:\n",
    "    matrix_Av = np.linalg.matrix_power(matrix_M,i)\n",
    "    epsilon = np.linalg.norm(score_vec - np.matmul(matrix_Av, v))\n",
    "    \n",
    "    score_vec = np.matmul(matrix_Av, v)\n",
    "    \n",
    "    i = i + 1"
   ]
  },
  {
   "cell_type": "markdown",
   "metadata": {},
   "source": [
    "#### Finding top 10 and bottom 10 rankings"
   ]
  },
  {
   "cell_type": "code",
   "execution_count": 18,
   "metadata": {},
   "outputs": [
    {
     "name": "stdout",
     "output_type": "stream",
     "text": [
      "('Bottom 10 nodes in my graph are ', array([[ 42],\n",
      "       [ 36],\n",
      "       [ 97],\n",
      "       [ 59],\n",
      "       [ 90],\n",
      "       [ 50],\n",
      "       [ 85],\n",
      "       [ 28],\n",
      "       [ 63],\n",
      "       [108]]))\n",
      "('Top 10 nodes in my graph are ', array([[ 53],\n",
      "       [  7],\n",
      "       [ 88],\n",
      "       [  2],\n",
      "       [ 15],\n",
      "       [104],\n",
      "       [  6],\n",
      "       [  0],\n",
      "       [  3],\n",
      "       [  1],\n",
      "       [  5]]))\n"
     ]
    }
   ],
   "source": [
    "matrix_Av = np.linalg.matrix_power(matrix_M,25)\n",
    "score_vec = np.matmul(matrix_Av, v) \n",
    "\n",
    "rank_index = np.argsort(score_vec, axis = 0)\n",
    "\n",
    "bottom_10 = rank_index[0:10]\n",
    "top_10 = rank_index[104:115]\n",
    "\n",
    "print(\"Bottom 10 nodes in my graph are \", bottom_10)\n",
    "print(\"Top 10 nodes in my graph are \", top_10)"
   ]
  }
 ],
 "metadata": {
  "kernelspec": {
   "display_name": "Python 2",
   "language": "python",
   "name": "python2"
  },
  "language_info": {
   "codemirror_mode": {
    "name": "ipython",
    "version": 2
   },
   "file_extension": ".py",
   "mimetype": "text/x-python",
   "name": "python",
   "nbconvert_exporter": "python",
   "pygments_lexer": "ipython2",
   "version": "2.7.13"
  }
 },
 "nbformat": 4,
 "nbformat_minor": 2
}
