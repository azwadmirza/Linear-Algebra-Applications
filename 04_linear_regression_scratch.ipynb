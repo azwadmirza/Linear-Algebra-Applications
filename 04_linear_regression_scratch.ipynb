{
 "cells": [
  {
   "cell_type": "markdown",
   "metadata": {},
   "source": [
    "### Importing required packages "
   ]
  },
  {
   "cell_type": "code",
   "execution_count": 1,
   "metadata": {
    "collapsed": true
   },
   "outputs": [],
   "source": [
    "import pandas as pd\n",
    "import numpy as np\n",
    "import statsmodels.formula.api as sm\n",
    "import matplotlib.pyplot as plt"
   ]
  },
  {
   "cell_type": "markdown",
   "metadata": {},
   "source": [
    "## Linear regression function\n",
    "\n",
    "For Ax = b, using **$A^TAx = A^Tb$**\n",
    "\n"
   ]
  },
  {
   "cell_type": "code",
   "execution_count": 10,
   "metadata": {
    "collapsed": true
   },
   "outputs": [],
   "source": [
    "def mylinear_reg(fr):\n",
    "    frcopy = fr.copy()\n",
    "    \n",
    "    # number of data-points\n",
    "    nrows = fr['x'].count()\n",
    "    # column matrix of 1s for intercept\n",
    "    D = [1 for i in range(nrows)]\n",
    "    B = frcopy['y']  \n",
    "    \n",
    "    A_transpose = np.matrix([frcopy['x'], D], dtype = float)   \n",
    "    A = A_transpose.transpose()\n",
    "    \n",
    "    A_trans_mult_A = np.matmul(A_transpose, A)\n",
    "    A_trans_B = np.transpose(np.matmul(A_transpose, B))\n",
    "    \n",
    "    A_trans_A_inv = np.linalg.inv(A_trans_mult_A)\n",
    "    \n",
    "    # x_hat will be equal to x=(ATA)^-1.ATb\n",
    " \n",
    "    x_hat = np.matmul(A_trans_A_inv, A_trans_B)\n",
    "    \n",
    "    intercept = x_hat.item(1)\n",
    "    slope = x_hat.item(0)\n",
    "    \n",
    "    y_hat = intercept + slope*frcopy['x']\n",
    "    error = y_hat - B\n",
    "    sq_error = np.square(error)\n",
    "    sum_sq_error = pd.Series.sum(sq_error)\n",
    "    \n",
    "    print \"Slope of best fit line is \", round(slope, 3)\n",
    "    print \"Intercept of best fit line is \", round(intercept, 3)\n",
    "    print \"Sum of squares of distances from observed y-values on y-values on the line is\", round(sum_sq_error, 3)\n",
    "    \n",
    "    # Plotting scatter plot\n",
    "    plt.scatter(fr['x'], B)\n",
    "    # plotting line over scatter using my linear regression algorithm\n",
    "    plt.plot(fr['x'], y_hat, color = 'green')\n",
    "    plt.title(\"x vs. y to check linear relationship\")\n",
    "    plt.xlabel(\"x\")\n",
    "    plt.ylabel(\"y\")\n",
    "    plt.show()"
   ]
  },
  {
   "cell_type": "markdown",
   "metadata": {},
   "source": [
    "### Testing regression function for given text files"
   ]
  },
  {
   "cell_type": "markdown",
   "metadata": {},
   "source": [
    "#### *(a)* Life Expectancy (y) as a function of Televisions per Thousand People (x) (TVlife.txt)"
   ]
  },
  {
   "cell_type": "code",
   "execution_count": 11,
   "metadata": {},
   "outputs": [
    {
     "name": "stdout",
     "output_type": "stream",
     "text": [
      "Slope of best fit line is  0.032\n",
      "Intercept of best fit line is  57.337\n",
      "Sum of squares of distances from observed y-values on y-values on the line is 1417.892\n"
     ]
    },
    {
     "data": {
      "image/png": "[encoded data removed]",
      "text/plain": [
       "<matplotlib.figure.Figure at 0x11a9f15d0>"
      ]
     },
     "metadata": {},
     "output_type": "display_data"
    }
   ],
   "source": [
    "tvlife = pd.read_csv('/Users/groverprince/Documents/msan/labs/msan502_david_algebra/hw3/TVlife.txt')\n",
    "mylinear_reg(tvlife)"
   ]
  },
  {
   "cell_type": "markdown",
   "metadata": {},
   "source": [
    "As it can be observed, the linear assumption for life expectancy vs. television is resonable. \n",
    "But we only have a few data points and least squared error is still high."
   ]
  },
  {
   "cell_type": "markdown",
   "metadata": {},
   "source": [
    "Now let's compare results with **statmodels.ols** to see how my function performed. "
   ]
  },
  {
   "cell_type": "code",
   "execution_count": 22,
   "metadata": {},
   "outputs": [
    {
     "name": "stdout",
     "output_type": "stream",
     "text": [
      "                            OLS Regression Results                            \n",
      "==============================================================================\n",
      "Dep. Variable:                      y   R-squared:                       0.552\n",
      "Model:                            OLS   Adj. R-squared:                  0.530\n",
      "Method:                 Least Squares   F-statistic:                     24.68\n",
      "Date:                Sun, 30 Jul 2017   Prob (F-statistic):           7.39e-05\n",
      "Time:                        13:35:31   Log-Likelihood:                -77.041\n",
      "No. Observations:                  22   AIC:                             158.1\n",
      "Df Residuals:                      20   BIC:                             160.3\n",
      "Df Model:                           1                                         \n",
      "Covariance Type:            nonrobust                                         \n",
      "==============================================================================\n",
      "                 coef    std err          t      P>|t|      [0.025      0.975]\n",
      "------------------------------------------------------------------------------\n",
      "Intercept     57.3369      2.649     21.644      0.000      51.811      62.863\n",
      "x              0.0324      0.007      4.968      0.000       0.019       0.046\n",
      "==============================================================================\n",
      "Omnibus:                        4.377   Durbin-Watson:                   2.055\n",
      "Prob(Omnibus):                  0.112   Jarque-Bera (JB):                2.673\n",
      "Skew:                          -0.825   Prob(JB):                        0.263\n",
      "Kurtosis:                       3.441   Cond. No.                         599.\n",
      "==============================================================================\n",
      "\n",
      "Warnings:\n",
      "[1] Standard Errors assume that the covariance matrix of the errors is correctly specified.\n"
     ]
    }
   ],
   "source": [
    "result1 = sm.ols(formula=\"y ~ x\", data = tvlife).fit()\n",
    "print(result1.summary())"
   ]
  },
  {
   "cell_type": "markdown",
   "metadata": {},
   "source": [
    "As we can see above, the intercept and slopes are matching with one generated by statsmodels.ols. Hence, we can say that our model/ functio gives right answer."
   ]
  },
  {
   "cell_type": "markdown",
   "metadata": {},
   "source": [
    "#### *(b)* National Population (y) as a function of Year (x) (population.txt)"
   ]
  },
  {
   "cell_type": "code",
   "execution_count": 13,
   "metadata": {},
   "outputs": [
    {
     "name": "stdout",
     "output_type": "stream",
     "text": [
      "Slope of best fit line is  2002587.091\n",
      "Intercept of best fit line is  -3740767381.46\n",
      "Sum of squares of distances from observed y-values on y-values on the line is 5.28256039926e+15\n"
     ]
    },
    {
     "data": {
      "image/png": "[encoded data removed]",
      "text/plain": [
       "<matplotlib.figure.Figure at 0x11acbb5d0>"
      ]
     },
     "metadata": {},
     "output_type": "display_data"
    }
   ],
   "source": [
    "population = pd.read_csv('/Users/groverprince/Documents/msan/labs/msan502_david_algebra/hw3/population.txt')\n",
    "mylinear_reg(population)"
   ]
  },
  {
   "cell_type": "markdown",
   "metadata": {},
   "source": [
    "Here also, linear assumption is reasonable.\n",
    "Now let's compare results with **statmodels.ols** to see how my function performed. "
   ]
  },
  {
   "cell_type": "code",
   "execution_count": 20,
   "metadata": {},
   "outputs": [
    {
     "name": "stdout",
     "output_type": "stream",
     "text": [
      "                            OLS Regression Results                            \n",
      "==============================================================================\n",
      "Dep. Variable:                      y   R-squared:                       0.984\n",
      "Model:                            OLS   Adj. R-squared:                  0.984\n",
      "Method:                 Least Squares   F-statistic:                     5954.\n",
      "Date:                Sun, 30 Jul 2017   Prob (F-statistic):           7.11e-89\n",
      "Time:                        13:31:54   Log-Likelihood:                -1705.1\n",
      "No. Observations:                  99   AIC:                             3414.\n",
      "Df Residuals:                      97   BIC:                             3419.\n",
      "Df Model:                           1                                         \n",
      "Covariance Type:            nonrobust                                         \n",
      "==============================================================================\n",
      "                 coef    std err          t      P>|t|      [0.025      0.975]\n",
      "------------------------------------------------------------------------------\n",
      "Intercept  -3.741e+09   5.06e+07    -73.907      0.000   -3.84e+09   -3.64e+09\n",
      "x           2.003e+06    2.6e+04     77.161      0.000    1.95e+06    2.05e+06\n",
      "==============================================================================\n",
      "Omnibus:                        9.675   Durbin-Watson:                   0.008\n",
      "Prob(Omnibus):                  0.008   Jarque-Bera (JB):                7.000\n",
      "Skew:                          -0.526   Prob(JB):                       0.0302\n",
      "Kurtosis:                       2.231   Cond. No.                     1.33e+05\n",
      "==============================================================================\n",
      "\n",
      "Warnings:\n",
      "[1] Standard Errors assume that the covariance matrix of the errors is correctly specified.\n",
      "[2] The condition number is large, 1.33e+05. This might indicate that there are\n",
      "strong multicollinearity or other numerical problems.\n"
     ]
    }
   ],
   "source": [
    "result2 = sm.ols(formula=\"y ~ x\", data = population).fit()\n",
    "print(result2.summary())"
   ]
  },
  {
   "cell_type": "markdown",
   "metadata": {},
   "source": [
    "As we can see above, the intercept and slopes are matching with one generated by statsmodels.ols. Hence, we can say that our model/ functio gives right answer."
   ]
  },
  {
   "cell_type": "markdown",
   "metadata": {},
   "source": [
    "#### *(c)* Team Winning Percentage (WinPct) (y) as a function of PM (x) \n",
    "(the average point difference over all that team’s games) (nba.txt)"
   ]
  },
  {
   "cell_type": "code",
   "execution_count": 14,
   "metadata": {},
   "outputs": [
    {
     "name": "stdout",
     "output_type": "stream",
     "text": [
      "Slope of best fit line is  0.032\n",
      "Intercept of best fit line is  0.5\n",
      "Sum of squares of distances from observed y-values on y-values on the line is 0.046\n"
     ]
    },
    {
     "data": {
      "image/png": "[encoded data removed]",
      "text/plain": [
       "<matplotlib.figure.Figure at 0x11ab5a8d0>"
      ]
     },
     "metadata": {},
     "output_type": "display_data"
    }
   ],
   "source": [
    "nba = pd.read_csv('/Users/groverprince/Documents/msan/labs/msan502_david_algebra/hw3/nba.txt')\n",
    "mylinear_reg(nba)"
   ]
  },
  {
   "cell_type": "markdown",
   "metadata": {},
   "source": [
    "Lease squared error is very small in this case and linear assumption seems quite reasonable. "
   ]
  },
  {
   "cell_type": "markdown",
   "metadata": {},
   "source": [
    "Now let's compare results with **statmodels.ols** to see how my function performed. "
   ]
  },
  {
   "cell_type": "code",
   "execution_count": 21,
   "metadata": {},
   "outputs": [
    {
     "name": "stdout",
     "output_type": "stream",
     "text": [
      "                            OLS Regression Results                            \n",
      "==============================================================================\n",
      "Dep. Variable:                      y   R-squared:                       0.936\n",
      "Model:                            OLS   Adj. R-squared:                  0.934\n",
      "Method:                 Least Squares   F-statistic:                     408.2\n",
      "Date:                Sun, 30 Jul 2017   Prob (F-statistic):           3.11e-18\n",
      "Time:                        13:33:37   Log-Likelihood:                 54.567\n",
      "No. Observations:                  30   AIC:                            -105.1\n",
      "Df Residuals:                      28   BIC:                            -102.3\n",
      "Df Model:                           1                                         \n",
      "Covariance Type:            nonrobust                                         \n",
      "==============================================================================\n",
      "                 coef    std err          t      P>|t|      [0.025      0.975]\n",
      "------------------------------------------------------------------------------\n",
      "Intercept      0.5000      0.007     67.414      0.000       0.485       0.515\n",
      "x              0.0321      0.002     20.204      0.000       0.029       0.035\n",
      "==============================================================================\n",
      "Omnibus:                        0.912   Durbin-Watson:                   2.050\n",
      "Prob(Omnibus):                  0.634   Jarque-Bera (JB):                0.663\n",
      "Skew:                          -0.355   Prob(JB):                        0.718\n",
      "Kurtosis:                       2.836   Cond. No.                         4.67\n",
      "==============================================================================\n",
      "\n",
      "Warnings:\n",
      "[1] Standard Errors assume that the covariance matrix of the errors is correctly specified.\n"
     ]
    }
   ],
   "source": [
    "result3 = sm.ols(formula=\"y ~ x\", data = nba).fit()\n",
    "print(result3.summary())"
   ]
  },
  {
   "cell_type": "markdown",
   "metadata": {},
   "source": [
    "As we can see above, the intercept and slopes are matching with one generated by statsmodels.ols. Hence, we can say that our model/ functio gives right answer."
   ]
  },
  {
   "cell_type": "markdown",
   "metadata": {},
   "source": [
    "### Testing code for some new dataset"
   ]
  },
  {
   "cell_type": "markdown",
   "metadata": {},
   "source": [
    "This is a real dataset which I downloaded from NSE (National Stock Exchange) website 2 months ago when I was trying \n",
    "to analyze relationship between 2 stocks which move together. The 2 stocks are - ***1. Power Finance Corporation (PFC), 2. Rural Electrification Finance. (REC)***. Both of these companies are listed in NSE and I was trying to see if these 2 stocks move together or not. IF yes, which one of them is undervalued and worth investing in.  \n",
    "The data has been already normalized to keep it between -1 to 1. PFC stock data is in 'x' and REC stock data in in 'y'.\n",
    ".CSV file is attached with submission. \n",
    "\n",
    "\n",
    "\n"
   ]
  },
  {
   "cell_type": "code",
   "execution_count": 16,
   "metadata": {},
   "outputs": [
    {
     "name": "stdout",
     "output_type": "stream",
     "text": [
      "Slope of best fit line is  0.566\n",
      "Intercept of best fit line is  0.2\n",
      "Sum of squares of distances from observed y-values on y-values on the line is 12.688\n"
     ]
    },
    {
     "data": {
      "image/png": "[encoded data removed]",
      "text/plain": [
       "<matplotlib.figure.Figure at 0x11a7f8790>"
      ]
     },
     "metadata": {},
     "output_type": "display_data"
    }
   ],
   "source": [
    "stock = pd.read_csv('/Users/groverprince/Documents/msan/labs/msan502_david_algebra/hw3/Stock_comparison.csv')\n",
    "stock = stock.rename(columns={'Unnamed: 1': 'x', 'Unnamed: 2': 'y'})\n",
    "mylinear_reg(stock)"
   ]
  },
  {
   "cell_type": "markdown",
   "metadata": {},
   "source": [
    "Although there are some outliers, but those are mostly due to *Dividents, Bonus Shares or Stock splits* (which cause sudden price movements)\n",
    "\n",
    "After doing more further analysis *(which I am not showing)*, I realized that PFC is undervalued stock and I have invested in it. "
   ]
  }
 ],
 "metadata": {
  "kernelspec": {
   "display_name": "Python 2",
   "language": "python",
   "name": "python2"
  },
  "language_info": {
   "codemirror_mode": {
    "name": "ipython",
    "version": 2
   },
   "file_extension": ".py",
   "mimetype": "text/x-python",
   "name": "python",
   "nbconvert_exporter": "python",
   "pygments_lexer": "ipython2",
   "version": "2.7.13"
  }
 },
 "nbformat": 4,
 "nbformat_minor": 2
}
