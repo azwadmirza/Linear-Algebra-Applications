{
 "cells": [
  {
   "cell_type": "code",
   "execution_count": 39,
   "metadata": {
    "collapsed": true
   },
   "outputs": [],
   "source": [
    "from __future__ import print_function\n",
    "import time\n",
    "import numpy\n",
    "import sys\n",
    "import matplotlib.pyplot as plt\n"
   ]
  },
  {
   "cell_type": "markdown",
   "metadata": {},
   "source": [
    "## Problem 1: Updated elimination matrix"
   ]
  },
  {
   "cell_type": "markdown",
   "metadata": {},
   "source": [
    "### 1.A \n",
    "defining function to perform elimination\n",
    "\n",
    "input A can be nxn matrix\n",
    "input v should be nx1 matrix"
   ]
  },
  {
   "cell_type": "code",
   "execution_count": 118,
   "metadata": {},
   "outputs": [],
   "source": [
    "def eliminate(A, v):\n",
    "    print(\"Original Matrix\")\n",
    "    print(A)\n",
    "    try:\n",
    "        for i in range(A.shape[0]-1):\n",
    "            for j in range(A.shape[1]-1-i):\n",
    "                pivot = A[i, i]\n",
    "            \n",
    "                if pivot == 0:\n",
    "                    swap_index = (numpy.where(A[i+1:,i] != 0)[0][0])+ i + 1\n",
    "\n",
    "                    temp = A[i].copy()\n",
    "                    A[i] = A[swap_index]\n",
    "                    A[swap_index] = temp\n",
    "                \n",
    "                    temp2 = v[i].copy()\n",
    "                    v[i] = v[swap_index]\n",
    "                    v[swap_index] = temp2\n",
    "\n",
    "                multi = A[i+j+1, i]/ A[i, i]\n",
    "            \n",
    "                A[i+j+1] = A[i+j+1] - A[i]*multi  \n",
    "                v[i+j+1] = v[i+j+1] - v[i]*multi \n",
    "                print(\"Row operation #\", i+j+1)\n",
    "                print(A)\n",
    "    \n",
    "        if A[A.shape[0]-1, A.shape[1]-1] == 0:\n",
    "            sys.exit(\"Matrix not full rank, can't solve\")\n",
    "    \n",
    "    except IndexError:\n",
    "        sys.exit(\"Couldn't find pivot, non unique solutions\")\n",
    "    return A,v"
   ]
  },
  {
   "cell_type": "markdown",
   "metadata": {},
   "source": [
    "Back substituion function"
   ]
  },
  {
   "cell_type": "code",
   "execution_count": 62,
   "metadata": {
    "collapsed": true
   },
   "outputs": [],
   "source": [
    "def backsub(A,v):\n",
    "    n = A.shape[0]\n",
    "    listx = [0]*n\n",
    "    listy = [0]*n\n",
    "    for i in range(1,n+1):\n",
    "        some_number = 0\n",
    "        \n",
    "        for j in range(i):\n",
    "            some_number = some_number + listx[j]*A[n-i, n-j-1]\n",
    "            \n",
    "        listx[i-1] = (v[n-i] - some_number)/A[n-i, n-i]\n",
    "        listy[n-i] = listx[i-1]\n",
    "    \n",
    "    return listy\n"
   ]
  },
  {
   "cell_type": "markdown",
   "metadata": {},
   "source": [
    "### 1.B \n",
    "Let's solve for Ax = b for some 3x3 matrix which has unique solution and requires permuations. As it can be seen from  below test case, **`Row Operation # 2`** is a ***permutation***"
   ]
  },
  {
   "cell_type": "code",
   "execution_count": 119,
   "metadata": {},
   "outputs": [
    {
     "name": "stdout",
     "output_type": "stream",
     "text": [
      "Original Matrix\n",
      "[[ 1.  2.  3.]\n",
      " [ 1.  2.  5.]\n",
      " [ 3.  9.  7.]]\n",
      "Row operation # 1\n",
      "[[ 1.  2.  3.]\n",
      " [ 0.  0.  2.]\n",
      " [ 3.  9.  7.]]\n",
      "Row operation # 2\n",
      "[[ 1.  2.  3.]\n",
      " [ 0.  0.  2.]\n",
      " [ 0.  3. -2.]]\n",
      "Row operation # 2\n",
      "[[ 1.  2.  3.]\n",
      " [ 0.  3. -2.]\n",
      " [ 0.  0.  2.]]\n",
      "Final reduced matrix is \n",
      "[[ 1.  2.  3.]\n",
      " [ 0.  3. -2.]\n",
      " [ 0.  0.  2.]]\n",
      "Final updated b is\n",
      "[[ 2.]\n",
      " [-5.]\n",
      " [ 1.]]\n",
      "Final solution of system of equations is \n",
      "[[ 3.16]\n",
      " [-1.33]\n",
      " [ 0.5 ]]\n"
     ]
    }
   ],
   "source": [
    "# Making example matrix \n",
    "A1 = numpy.matrix([[1,2,3], [1,2,5], [3,9,7]], dtype = float)\n",
    "b1 = numpy.mat([2,3,1], dtype = float)\n",
    "b1 = b1.reshape(3,1)\n",
    "\n",
    "# Applying my algorithms\n",
    "x1, y1 = eliminate(A1, b1)\n",
    "z1 = backsub(x1, y1)\n",
    "print(\"Final reduced matrix is \")\n",
    "print(x1)\n",
    "print(\"Final updated b is\")\n",
    "print(y1)\n",
    "print(\"Final solution of system of equations is \")\n",
    "print(z1)"
   ]
  },
  {
   "cell_type": "markdown",
   "metadata": {},
   "source": [
    "### 1.C\n",
    "Adding error messages in code for elimination. Here are 2 examples system of equations which throw an error. \n",
    "\n",
    "#### I) Last row becomes all zero (i.e. Matrix A not full rank)"
   ]
  },
  {
   "cell_type": "code",
   "execution_count": 120,
   "metadata": {},
   "outputs": [
    {
     "name": "stdout",
     "output_type": "stream",
     "text": [
      "Original Matrix\n",
      "[[ 1.  2.  3.]\n",
      " [ 3.  2.  5.]\n",
      " [ 4.  4.  8.]]\n",
      "Row operation # 1\n",
      "[[ 1.  2.  3.]\n",
      " [ 0. -4. -4.]\n",
      " [ 4.  4.  8.]]\n",
      "Row operation # 2\n",
      "[[ 1.  2.  3.]\n",
      " [ 0. -4. -4.]\n",
      " [ 0. -4. -4.]]\n",
      "Row operation # 2\n",
      "[[ 1.  2.  3.]\n",
      " [ 0. -4. -4.]\n",
      " [ 0.  0.  0.]]\n"
     ]
    },
    {
     "ename": "SystemExit",
     "evalue": "Matrix not full rank, can't solve",
     "output_type": "error",
     "traceback": [
      "An exception has occurred, use %tb to see the full traceback.\n",
      "\u001b[0;31mSystemExit\u001b[0m\u001b[0;31m:\u001b[0m Matrix not full rank, can't solve\n"
     ]
    }
   ],
   "source": [
    "A3_1 = numpy.matrix([[1,2,3], [3,2,5], [4,4,8]], dtype = float)\n",
    "b3_1 = numpy.mat([2,3,1], dtype = float)\n",
    "b3_1 = b3_1.reshape(3,1)\n",
    "\n",
    "# Applying my algorithms\n",
    "x2, y2 = eliminate(A3_1, b3_1)\n",
    "z2 = backsub(x2, y2)\n",
    "print(\"Final reduced matrix is \")\n",
    "print(x2)\n",
    "print(\"Final updated b is\")\n",
    "print(y2)\n",
    "print(\"Final solution of system of equations is \", z2)\n"
   ]
  },
  {
   "cell_type": "markdown",
   "metadata": {},
   "source": [
    "#### II) When non zero pivots are not found while searching rows"
   ]
  },
  {
   "cell_type": "code",
   "execution_count": 121,
   "metadata": {},
   "outputs": [
    {
     "name": "stdout",
     "output_type": "stream",
     "text": [
      "Original Matrix\n",
      "[[ 1.  2.  3.]\n",
      " [ 1.  2.  4.]\n",
      " [ 1.  2.  5.]]\n",
      "Row operation # 1\n",
      "[[ 1.  2.  3.]\n",
      " [ 0.  0.  1.]\n",
      " [ 1.  2.  5.]]\n",
      "Row operation # 2\n",
      "[[ 1.  2.  3.]\n",
      " [ 0.  0.  1.]\n",
      " [ 0.  0.  2.]]\n"
     ]
    },
    {
     "ename": "SystemExit",
     "evalue": "Couldn't find pivot, non unique solutions",
     "output_type": "error",
     "traceback": [
      "An exception has occurred, use %tb to see the full traceback.\n",
      "\u001b[0;31mSystemExit\u001b[0m\u001b[0;31m:\u001b[0m Couldn't find pivot, non unique solutions\n"
     ]
    }
   ],
   "source": [
    "A3_2 = numpy.matrix([[1,2,3], [1,2,4], [1,2,5]], dtype = float)\n",
    "b3_2 = numpy.mat([2,3,1], dtype = float)\n",
    "b3_2 = b3_2.reshape(3,1)\n",
    "\n",
    "# Applying my algorithms\n",
    "x3, y3 = eliminate(A3_2, b3_2)\n",
    "z3 = backsub(x3, y3)\n",
    "print(\"Final reduced matrix is \")\n",
    "print(x3)\n",
    "print(\"Final updated b is\")\n",
    "print(y3)\n",
    "print(\"Final solution of system of equations is \", z3)"
   ]
  },
  {
   "cell_type": "markdown",
   "metadata": {},
   "source": [
    "## Problem 2: Algorithm complexity\n",
    "### Running my algorithm for matrix size of 2^k (for k = 0 to 12) [Plotting only for k = 4 to 12, as asked in question]"
   ]
  },
  {
   "cell_type": "code",
   "execution_count": 33,
   "metadata": {},
   "outputs": [
    {
     "name": "stdout",
     "output_type": "stream",
     "text": [
      "Elapsed time by my algorithm for 2 to the power  0  is  6.19888305664e-05\n",
      "Elapsed time by my algorithm for 2 to the power  1  is  6.69956207275e-05\n",
      "Elapsed time by my algorithm for 2 to the power  2  is  8.29696655273e-05\n",
      "Elapsed time by my algorithm for 2 to the power  3  is  0.000268936157227\n",
      "Elapsed time by my algorithm for 2 to the power  4  is  0.00123190879822\n",
      "Elapsed time by my algorithm for 2 to the power  5  is  0.00513792037964\n",
      "Elapsed time by my algorithm for 2 to the power  6  is  0.0192620754242\n",
      "Elapsed time by my algorithm for 2 to the power  7  is  0.0555791854858\n",
      "Elapsed time by my algorithm for 2 to the power  8  is  0.185680866241\n",
      "Elapsed time by my algorithm for 2 to the power  9  is  0.867347955704\n",
      "Elapsed time by my algorithm for 2 to the power  10  is  3.46554303169\n",
      "Elapsed time by my algorithm for 2 to the power  11  is  19.8881778717\n",
      "Elapsed time by my algorithm for 2 to the power  12  is  99.6334459782\n"
     ]
    }
   ],
   "source": [
    "start_time = [1 for k in range(13)]\n",
    "elapsed_time = [1 for k in range(13)]\n",
    "\n",
    "for i in range(13):\n",
    "    start_time[i] = time.time()\n",
    "    \n",
    "    for t in range(10):\n",
    "        R2 = numpy.random.rand(2**i,2**i)\n",
    "        R2.astype(float)\n",
    "        w2 = [1 for j in range(2**i)]\n",
    "    \n",
    "        x2, y2 = eliminate(R2, w2)\n",
    "        z2 = backsub(x2, y2)\n",
    "    elapsed_time[i] = (time.time() - start_time[i])/10\n",
    "    print(\"Elapsed time by my algorithm for 2 to the power \", i, \" is \", elapsed_time[i])"
   ]
  },
  {
   "cell_type": "markdown",
   "metadata": {},
   "source": [
    "#### Plot of log2(Tk) vs. k"
   ]
  },
  {
   "cell_type": "code",
   "execution_count": 48,
   "metadata": {},
   "outputs": [
    {
     "data": {
      "image/png": "[encoded data removed]",
      "text/plain": [
       "<matplotlib.figure.Figure at 0x11efdad90>"
      ]
     },
     "metadata": {},
     "output_type": "display_data"
    }
   ],
   "source": [
    "elapsed_times_copy = elapsed_time[4:13]\n",
    "y_axis = numpy.log2(elapsed_times_copy)\n",
    "x_axis = range(4,13)\n",
    "plt.plot(x_axis, y_axis, 'r--')\n",
    "plt.xlabel(\"Matrix size in 2^k\")\n",
    "plt.ylabel(\"Log2 of elapsed times to run algorithm\")\n",
    "plt.show()"
   ]
  },
  {
   "cell_type": "markdown",
   "metadata": {},
   "source": [
    "The complexity is N^a *(where N is size of matrix; a is order of complexity)*. \n",
    "Now our size of matrices are 2^k(k is raised power). Therefore, time taken by matrices will be some power of 2^k and hence, log2(time) will be a factor of k.a *(where k is raised power and a is order of complexity)* If we plot log2(Time) vs k for different values of k, then `ka/k`, i.e. slope of graph will give leading order of complexity\n",
    "\n",
    "The slope of above plot of **log2(Tk) vs. k** is coming as approximately linear with slope of **2.2**. "
   ]
  },
  {
   "cell_type": "markdown",
   "metadata": {},
   "source": [
    "## Problem 3: System of linear equations\n",
    "### Part A: Solutions for different values of e = 10^i"
   ]
  },
  {
   "cell_type": "code",
   "execution_count": 52,
   "metadata": {},
   "outputs": [
    {
     "name": "stdout",
     "output_type": "stream",
     "text": [
      "Solution to system of equations for e = 0.1 :\n",
      "[matrix([[ 1.]]), matrix([[ 1.]]), matrix([[ 1.]])]\n",
      " \n",
      "Solution to system of equations for e = 0.01 :\n",
      "[matrix([[ 1.]]), matrix([[ 1.]]), matrix([[ 1.]])]\n",
      " \n",
      "Solution to system of equations for e = 0.001 :\n",
      "[matrix([[ 1.]]), matrix([[ 1.]]), matrix([[ 1.]])]\n",
      " \n",
      "Solution to system of equations for e = 0.0001 :\n",
      "[matrix([[ 1.]]), matrix([[ 1.]]), matrix([[ 1.]])]\n",
      " \n",
      "Solution to system of equations for e = 1e-08 :\n",
      "[matrix([[ 1.]]), matrix([[ 1.]]), matrix([[ 1.]])]\n",
      " \n",
      "Solution to system of equations for e = 1e-12 :\n",
      "[matrix([[ 1.]]), matrix([[ 1.0000111]]), matrix([[ 0.9999778]])]\n",
      " \n",
      "Solution to system of equations for e = 1e-16 :\n",
      "[matrix([[ 1.]]), matrix([[ 0.7]]), matrix([[ 1.6]])]\n",
      " \n"
     ]
    }
   ],
   "source": [
    "ex = [1,2,3,4,8,12,16]\n",
    "e = []\n",
    "for i in ex:\n",
    "    e.append(10**(-i))\n",
    "\n",
    "# Running loop to put different values of e in system of equations\n",
    "for t in e:\n",
    "    Row1 = [3,2,1]\n",
    "    Row2 = [2, 2*t, 2*t]\n",
    "    Row3 = [1, 2*t, -1*t]\n",
    "    B = numpy.mat([6, 2 + 4*t, 1 + t])\n",
    "    B = B.reshape(3,1)\n",
    "    Matrix = numpy.matrix([Row1, Row2, Row3], dtype = float)\n",
    "#    print(Matrix)\n",
    "#    print(B)\n",
    " \n",
    "    mid1, mid2 = eliminate(Matrix, B)\n",
    "    sol1 = backsub(mid1, mid2)\n",
    "    \n",
    "    print(\"Solution to system of equations for e =\", t, \":\")\n",
    "    print(sol1)\n",
    "    print(\" \")"
   ]
  },
  {
   "cell_type": "markdown",
   "metadata": {},
   "source": [
    "What is happening above is that our system of equations is independent of values of 'e' and for different\n",
    "values of `e`, our solution to equations is [1, 1, 1], but this solution is breaking out at e = 10^(-16) where\n",
    "it is giving [1, 0.7, 1.6]. Although our system looks independent of `e` if we solve manually, we solution reaches to approximation when `e` is 10^(-16)"
   ]
  },
  {
   "cell_type": "markdown",
   "metadata": {},
   "source": [
    "### Part B: Rounding each computation steps for e = 10^-3"
   ]
  },
  {
   "cell_type": "markdown",
   "metadata": {},
   "source": [
    "Below, defining ***eliminate_round*** function which rounds all compuations in between steps (round also mentioned in comments)"
   ]
  },
  {
   "cell_type": "code",
   "execution_count": 111,
   "metadata": {
    "collapsed": true
   },
   "outputs": [],
   "source": [
    "def eliminate_round(A, v):\n",
    "    print(A)\n",
    "    try:\n",
    "        for i in range(A.shape[0]-1):\n",
    "            for j in range(A.shape[1]-1-i):\n",
    "                pivot = A[i, i]\n",
    "            \n",
    "                if pivot == 0:\n",
    "                    swap_index = (numpy.where(A[i+1:,i] != 0)[0][0])+ i + 1\n",
    "\n",
    "                    temp = A[i].copy()\n",
    "                    A[i] = A[swap_index]\n",
    "                    A[swap_index] = temp\n",
    "                \n",
    "                    temp2 = v[i].copy()\n",
    "                    v[i] = v[swap_index]\n",
    "                    v[swap_index] = temp2\n",
    "                    \n",
    "                multi = A[i+j+1, i]/ A[i, i]\n",
    "            # 1st rounding\n",
    "                A[i+j+1] = numpy.around((A[i+j+1] - A[i]*multi), 2)  \n",
    "                print(A)\n",
    "            # 2nd rounding\n",
    "                v[i+j+1] = numpy.around((v[i+j+1] - v[i]*multi), 2)            \n",
    "    \n",
    "        if A[A.shape[0]-1, A.shape[1]-1] == 0:\n",
    "            sys.exit(\"Matrix not full rank, can't solve {Matrix singular}\")\n",
    "    \n",
    "    except IndexError:\n",
    "        sys.exit(\"Couldn't find pivot, non unique solutions\")\n",
    "        \n",
    "    # Final rounding\n",
    "    A = numpy.around(A,2)\n",
    "    v = numpy.around(v,2)\n",
    "    return A,v"
   ]
  },
  {
   "cell_type": "markdown",
   "metadata": {},
   "source": [
    "Below, defining ***backsub_round*** which rounds computations in between steps for back-substitution (mentioned in comments)"
   ]
  },
  {
   "cell_type": "code",
   "execution_count": 90,
   "metadata": {
    "collapsed": true
   },
   "outputs": [],
   "source": [
    "def backsub_round(A,v):\n",
    "    n = A.shape[0]\n",
    "    listx = [0]*n\n",
    "    listy = [0]*n\n",
    "    for i in range(1,n+1):\n",
    "        some_number = 0\n",
    "        \n",
    "        for j in range(i):\n",
    "            some_number = some_number + listx[j]*A[n-i, n-j-1]\n",
    "            # First rounding\n",
    "            some_number = round(some_number, 2)\n",
    "        # Second rounding\n",
    "        listx[i-1] = round((v[n-i] - some_number)/A[n-i, n-i],2)\n",
    "        listy[n-i] = round(listx[i-1],2)\n",
    "    return_list = numpy.around(numpy.vstack((listy[0], listy[1], listy[2])),2)\n",
    "    return return_list"
   ]
  },
  {
   "cell_type": "markdown",
   "metadata": {},
   "source": [
    "Now, let's compute out solutions using new xxx_round functions"
   ]
  },
  {
   "cell_type": "code",
   "execution_count": 117,
   "metadata": {},
   "outputs": [
    {
     "name": "stdout",
     "output_type": "stream",
     "text": [
      "[[  3.00000000e+00   2.00000000e+00   1.00000000e+00]\n",
      " [  2.00000000e+00   2.00000000e-03   2.00000000e-03]\n",
      " [  1.00000000e+00   2.00000000e-03  -1.00000000e-03]]\n",
      "[[  3.00000000e+00   2.00000000e+00   1.00000000e+00]\n",
      " [  0.00000000e+00  -1.33000000e+00  -6.60000000e-01]\n",
      " [  1.00000000e+00   2.00000000e-03  -1.00000000e-03]]\n",
      "[[ 3.    2.    1.  ]\n",
      " [ 0.   -1.33 -0.66]\n",
      " [ 0.   -0.66 -0.33]]\n",
      "[[ 3.    2.    1.  ]\n",
      " [ 0.   -1.33 -0.66]\n",
      " [ 0.    0.   -0.  ]]\n"
     ]
    },
    {
     "ename": "SystemExit",
     "evalue": "Matrix not full rank, can't solve {Matrix singular}",
     "output_type": "error",
     "traceback": [
      "An exception has occurred, use %tb to see the full traceback.\n",
      "\u001b[0;31mSystemExit\u001b[0m\u001b[0;31m:\u001b[0m Matrix not full rank, can't solve {Matrix singular}\n"
     ]
    }
   ],
   "source": [
    "# Updating equations and making system matrices\n",
    "x = 10**(-3)\n",
    "Row1_2 = [3,2,1]\n",
    "Row2_2 = [2, 2*x, 2*x]\n",
    "Row3_2 = [1, 2*x, -1*x]\n",
    "B_2 = numpy.mat([6, 2 + 4*x, 1 + x])\n",
    "B_2 = B_2.reshape(3,1)\n",
    "Matrix_2 = numpy.matrix([Row1_2, Row2_2, Row3_2], dtype = float)\n",
    "\n",
    "# Solving \n",
    "mid1_2, mid2_2 = eliminate_round(Matrix_2, B_2)\n",
    "sol1_2 = backsub_round(mid1_2, mid2_2)\n",
    "mid1_2\n",
    "sol1_2"
   ]
  },
  {
   "cell_type": "markdown",
   "metadata": {},
   "source": [
    "As oberved above, if we round the calculations to 2 decimal places and send constrains to 3 decimal places \n",
    "(by multiplying e by 10^(-3)), we are basically making 2nd and 3rd row of reduced row echelon form same.\n",
    "That is why, I am getting ***singular matrix*** error. "
   ]
  }
 ],
 "metadata": {
  "kernelspec": {
   "display_name": "Python 2",
   "language": "python",
   "name": "python2"
  },
  "language_info": {
   "codemirror_mode": {
    "name": "ipython",
    "version": 2
   },
   "file_extension": ".py",
   "mimetype": "text/x-python",
   "name": "python",
   "nbconvert_exporter": "python",
   "pygments_lexer": "ipython2",
   "version": "2.7.13"
  }
 },
 "nbformat": 4,
 "nbformat_minor": 2
}
